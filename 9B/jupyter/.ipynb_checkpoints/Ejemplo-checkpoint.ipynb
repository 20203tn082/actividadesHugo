{
 "cells": [
  {
   "cell_type": "code",
   "execution_count": 1,
   "id": "0ad1752c-2c21-4442-906d-e94d6035d322",
   "metadata": {
    "tags": []
   },
   "outputs": [
    {
     "data": {
      "text/html": [
       "'C:/Users/CC7/Documents/9B/jupyter'"
      ],
      "text/latex": [
       "'C:/Users/CC7/Documents/9B/jupyter'"
      ],
      "text/markdown": [
       "'C:/Users/CC7/Documents/9B/jupyter'"
      ],
      "text/plain": [
       "[1] \"C:/Users/CC7/Documents/9B/jupyter\""
      ]
     },
     "metadata": {},
     "output_type": "display_data"
    }
   ],
   "source": [
    "getwd()"
   ]
  },
  {
   "cell_type": "code",
   "execution_count": null,
   "id": "f349bd00-b972-4fdb-a3e8-1bf0eae615c8",
   "metadata": {},
   "outputs": [],
   "source": []
  }
 ],
 "metadata": {
  "kernelspec": {
   "display_name": "R",
   "language": "R",
   "name": "ir"
  },
  "language_info": {
   "codemirror_mode": "r",
   "file_extension": ".r",
   "mimetype": "text/x-r-source",
   "name": "R",
   "pygments_lexer": "r",
   "version": "4.2.3"
  }
 },
 "nbformat": 4,
 "nbformat_minor": 5
}
